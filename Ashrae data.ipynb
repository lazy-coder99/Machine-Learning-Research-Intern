{
 "cells": [
  {
   "cell_type": "code",
   "execution_count": 61,
   "id": "384fb3e0-a4ea-47e9-964a-56496a73af4e",
   "metadata": {},
   "outputs": [],
   "source": [
    "import pandas as pd\n",
    "import numpy as np"
   ]
  },
  {
   "cell_type": "code",
   "execution_count": 62,
   "id": "3ac9239e-9d92-49af-be82-bce9b989113f",
   "metadata": {},
   "outputs": [],
   "source": [
    "df = pd.read_csv('ASHRAE_db2.csv',low_memory = False)"
   ]
  },
  {
   "cell_type": "code",
   "execution_count": 129,
   "id": "a3f34d66-0ef5-4689-a5c9-015d1007cef1",
   "metadata": {
    "scrolled": true
   },
   "outputs": [
    {
     "data": {
      "text/html": [
       "<div>\n",
       "<style scoped>\n",
       "    .dataframe tbody tr th:only-of-type {\n",
       "        vertical-align: middle;\n",
       "    }\n",
       "\n",
       "    .dataframe tbody tr th {\n",
       "        vertical-align: top;\n",
       "    }\n",
       "\n",
       "    .dataframe thead th {\n",
       "        text-align: right;\n",
       "    }\n",
       "</style>\n",
       "<table border=\"1\" class=\"dataframe\">\n",
       "  <thead>\n",
       "    <tr style=\"text-align: right;\">\n",
       "      <th></th>\n",
       "      <th>Publication (Citation)</th>\n",
       "      <th>Data contributor</th>\n",
       "      <th>Year</th>\n",
       "      <th>Season</th>\n",
       "      <th>Köppen climate classification</th>\n",
       "      <th>Climate</th>\n",
       "      <th>City</th>\n",
       "      <th>Country</th>\n",
       "      <th>Building type</th>\n",
       "      <th>Cooling startegy</th>\n",
       "      <th>...</th>\n",
       "      <th>Subject´s height (cm)</th>\n",
       "      <th>Subject´s weight (kg)</th>\n",
       "      <th>Blind (curtain)</th>\n",
       "      <th>Fan</th>\n",
       "      <th>Window</th>\n",
       "      <th>Door</th>\n",
       "      <th>Heater</th>\n",
       "      <th>Outdoor monthly air temperature (°C)</th>\n",
       "      <th>Outdoor monthly air temperature (°F)</th>\n",
       "      <th>Database</th>\n",
       "    </tr>\n",
       "  </thead>\n",
       "  <tbody>\n",
       "    <tr>\n",
       "      <th>0</th>\n",
       "      <td>Kwok, Alison G., and Chungyoon Chun. \"Thermal ...</td>\n",
       "      <td>Kwok Alison</td>\n",
       "      <td>2000.0</td>\n",
       "      <td>Summer</td>\n",
       "      <td>Cfa</td>\n",
       "      <td>Humid subtropical</td>\n",
       "      <td>Tokyo</td>\n",
       "      <td>Japan</td>\n",
       "      <td>Classroom</td>\n",
       "      <td>Air Conditioned</td>\n",
       "      <td>...</td>\n",
       "      <td>162</td>\n",
       "      <td>NaN</td>\n",
       "      <td>NaN</td>\n",
       "      <td>NaN</td>\n",
       "      <td>NaN</td>\n",
       "      <td>NaN</td>\n",
       "      <td>NaN</td>\n",
       "      <td>25.0</td>\n",
       "      <td>77.0</td>\n",
       "      <td>2</td>\n",
       "    </tr>\n",
       "    <tr>\n",
       "      <th>1</th>\n",
       "      <td>Kwok, Alison G., and Chungyoon Chun. \"Thermal ...</td>\n",
       "      <td>Kwok Alison</td>\n",
       "      <td>2000.0</td>\n",
       "      <td>Summer</td>\n",
       "      <td>Cfa</td>\n",
       "      <td>Humid subtropical</td>\n",
       "      <td>Tokyo</td>\n",
       "      <td>Japan</td>\n",
       "      <td>Classroom</td>\n",
       "      <td>Air Conditioned</td>\n",
       "      <td>...</td>\n",
       "      <td>154</td>\n",
       "      <td>NaN</td>\n",
       "      <td>NaN</td>\n",
       "      <td>NaN</td>\n",
       "      <td>NaN</td>\n",
       "      <td>NaN</td>\n",
       "      <td>NaN</td>\n",
       "      <td>25.0</td>\n",
       "      <td>77.0</td>\n",
       "      <td>2</td>\n",
       "    </tr>\n",
       "    <tr>\n",
       "      <th>2</th>\n",
       "      <td>Kwok, Alison G., and Chungyoon Chun. \"Thermal ...</td>\n",
       "      <td>Kwok Alison</td>\n",
       "      <td>2000.0</td>\n",
       "      <td>Summer</td>\n",
       "      <td>Cfa</td>\n",
       "      <td>Humid subtropical</td>\n",
       "      <td>Tokyo</td>\n",
       "      <td>Japan</td>\n",
       "      <td>Classroom</td>\n",
       "      <td>Air Conditioned</td>\n",
       "      <td>...</td>\n",
       "      <td>173</td>\n",
       "      <td>NaN</td>\n",
       "      <td>NaN</td>\n",
       "      <td>NaN</td>\n",
       "      <td>NaN</td>\n",
       "      <td>NaN</td>\n",
       "      <td>NaN</td>\n",
       "      <td>25.0</td>\n",
       "      <td>77.0</td>\n",
       "      <td>2</td>\n",
       "    </tr>\n",
       "    <tr>\n",
       "      <th>3</th>\n",
       "      <td>Kwok, Alison G., and Chungyoon Chun. \"Thermal ...</td>\n",
       "      <td>Kwok Alison</td>\n",
       "      <td>2000.0</td>\n",
       "      <td>Summer</td>\n",
       "      <td>Cfa</td>\n",
       "      <td>Humid subtropical</td>\n",
       "      <td>Tokyo</td>\n",
       "      <td>Japan</td>\n",
       "      <td>Classroom</td>\n",
       "      <td>Air Conditioned</td>\n",
       "      <td>...</td>\n",
       "      <td>167</td>\n",
       "      <td>NaN</td>\n",
       "      <td>NaN</td>\n",
       "      <td>NaN</td>\n",
       "      <td>NaN</td>\n",
       "      <td>NaN</td>\n",
       "      <td>NaN</td>\n",
       "      <td>25.0</td>\n",
       "      <td>77.0</td>\n",
       "      <td>2</td>\n",
       "    </tr>\n",
       "    <tr>\n",
       "      <th>4</th>\n",
       "      <td>Kwok, Alison G., and Chungyoon Chun. \"Thermal ...</td>\n",
       "      <td>Kwok Alison</td>\n",
       "      <td>2000.0</td>\n",
       "      <td>Summer</td>\n",
       "      <td>Cfa</td>\n",
       "      <td>Humid subtropical</td>\n",
       "      <td>Tokyo</td>\n",
       "      <td>Japan</td>\n",
       "      <td>Classroom</td>\n",
       "      <td>Air Conditioned</td>\n",
       "      <td>...</td>\n",
       "      <td>178</td>\n",
       "      <td>NaN</td>\n",
       "      <td>NaN</td>\n",
       "      <td>NaN</td>\n",
       "      <td>NaN</td>\n",
       "      <td>NaN</td>\n",
       "      <td>NaN</td>\n",
       "      <td>25.0</td>\n",
       "      <td>77.0</td>\n",
       "      <td>2</td>\n",
       "    </tr>\n",
       "  </tbody>\n",
       "</table>\n",
       "<p>5 rows × 68 columns</p>\n",
       "</div>"
      ],
      "text/plain": [
       "                              Publication (Citation) Data contributor    Year  \\\n",
       "0  Kwok, Alison G., and Chungyoon Chun. \"Thermal ...      Kwok Alison  2000.0   \n",
       "1  Kwok, Alison G., and Chungyoon Chun. \"Thermal ...      Kwok Alison  2000.0   \n",
       "2  Kwok, Alison G., and Chungyoon Chun. \"Thermal ...      Kwok Alison  2000.0   \n",
       "3  Kwok, Alison G., and Chungyoon Chun. \"Thermal ...      Kwok Alison  2000.0   \n",
       "4  Kwok, Alison G., and Chungyoon Chun. \"Thermal ...      Kwok Alison  2000.0   \n",
       "\n",
       "   Season Köppen climate classification            Climate   City Country  \\\n",
       "0  Summer                           Cfa  Humid subtropical  Tokyo   Japan   \n",
       "1  Summer                           Cfa  Humid subtropical  Tokyo   Japan   \n",
       "2  Summer                           Cfa  Humid subtropical  Tokyo   Japan   \n",
       "3  Summer                           Cfa  Humid subtropical  Tokyo   Japan   \n",
       "4  Summer                           Cfa  Humid subtropical  Tokyo   Japan   \n",
       "\n",
       "  Building type Cooling startegy  ...  Subject´s height (cm)  \\\n",
       "0     Classroom  Air Conditioned  ...                    162   \n",
       "1     Classroom  Air Conditioned  ...                    154   \n",
       "2     Classroom  Air Conditioned  ...                    173   \n",
       "3     Classroom  Air Conditioned  ...                    167   \n",
       "4     Classroom  Air Conditioned  ...                    178   \n",
       "\n",
       "  Subject´s weight (kg)  Blind (curtain)   Fan Window  Door Heater  \\\n",
       "0                   NaN               NaN  NaN    NaN   NaN    NaN   \n",
       "1                   NaN               NaN  NaN    NaN   NaN    NaN   \n",
       "2                   NaN               NaN  NaN    NaN   NaN    NaN   \n",
       "3                   NaN               NaN  NaN    NaN   NaN    NaN   \n",
       "4                   NaN               NaN  NaN    NaN   NaN    NaN   \n",
       "\n",
       "  Outdoor monthly air temperature (°C)  Outdoor monthly air temperature (°F)  \\\n",
       "0                                 25.0                                  77.0   \n",
       "1                                 25.0                                  77.0   \n",
       "2                                 25.0                                  77.0   \n",
       "3                                 25.0                                  77.0   \n",
       "4                                 25.0                                  77.0   \n",
       "\n",
       "   Database  \n",
       "0         2  \n",
       "1         2  \n",
       "2         2  \n",
       "3         2  \n",
       "4         2  \n",
       "\n",
       "[5 rows x 68 columns]"
      ]
     },
     "execution_count": 129,
     "metadata": {},
     "output_type": "execute_result"
    }
   ],
   "source": [
    "df.head()"
   ]
  },
  {
   "cell_type": "code",
   "execution_count": 130,
   "id": "5f6bbd2b-6aa2-411d-b120-5906e0f7fcc1",
   "metadata": {},
   "outputs": [
    {
     "data": {
      "text/plain": [
       "(107462, 68)"
      ]
     },
     "execution_count": 130,
     "metadata": {},
     "output_type": "execute_result"
    }
   ],
   "source": [
    "df.shape"
   ]
  },
  {
   "cell_type": "code",
   "execution_count": 131,
   "id": "91d89463-9b06-4605-a4d9-7fd7184575f8",
   "metadata": {},
   "outputs": [],
   "source": [
    "india_df = df[df['Country'] == 'India'].copy() # keeping only country India"
   ]
  },
  {
   "cell_type": "code",
   "execution_count": 132,
   "id": "2c40f557-c9f0-43a9-8b93-9e2496f935a4",
   "metadata": {},
   "outputs": [
    {
     "data": {
      "text/plain": [
       "(16110, 68)"
      ]
     },
     "execution_count": 132,
     "metadata": {},
     "output_type": "execute_result"
    }
   ],
   "source": [
    "india_df.shape"
   ]
  },
  {
   "cell_type": "code",
   "execution_count": 133,
   "id": "387412a4-94f2-40d4-ae9d-457ed332ec99",
   "metadata": {},
   "outputs": [
    {
     "data": {
      "text/html": [
       "<div>\n",
       "<style scoped>\n",
       "    .dataframe tbody tr th:only-of-type {\n",
       "        vertical-align: middle;\n",
       "    }\n",
       "\n",
       "    .dataframe tbody tr th {\n",
       "        vertical-align: top;\n",
       "    }\n",
       "\n",
       "    .dataframe thead th {\n",
       "        text-align: right;\n",
       "    }\n",
       "</style>\n",
       "<table border=\"1\" class=\"dataframe\">\n",
       "  <thead>\n",
       "    <tr style=\"text-align: right;\">\n",
       "      <th></th>\n",
       "      <th>Publication (Citation)</th>\n",
       "      <th>Data contributor</th>\n",
       "      <th>Year</th>\n",
       "      <th>Season</th>\n",
       "      <th>Köppen climate classification</th>\n",
       "      <th>Climate</th>\n",
       "      <th>City</th>\n",
       "      <th>Country</th>\n",
       "      <th>Building type</th>\n",
       "      <th>Cooling startegy</th>\n",
       "      <th>...</th>\n",
       "      <th>Subject´s height (cm)</th>\n",
       "      <th>Subject´s weight (kg)</th>\n",
       "      <th>Blind (curtain)</th>\n",
       "      <th>Fan</th>\n",
       "      <th>Window</th>\n",
       "      <th>Door</th>\n",
       "      <th>Heater</th>\n",
       "      <th>Outdoor monthly air temperature (°C)</th>\n",
       "      <th>Outdoor monthly air temperature (°F)</th>\n",
       "      <th>Database</th>\n",
       "    </tr>\n",
       "  </thead>\n",
       "  <tbody>\n",
       "    <tr>\n",
       "      <th>2233</th>\n",
       "      <td>Indraganti, Madhavi, et al. \"Adaptive model of...</td>\n",
       "      <td>Indraganti Madhavi</td>\n",
       "      <td>2012.0</td>\n",
       "      <td>Winter</td>\n",
       "      <td>Aw</td>\n",
       "      <td>Tropical wet savanna</td>\n",
       "      <td>Chennai</td>\n",
       "      <td>India</td>\n",
       "      <td>Office</td>\n",
       "      <td>Air Conditioned</td>\n",
       "      <td>...</td>\n",
       "      <td>NaN</td>\n",
       "      <td>52.0</td>\n",
       "      <td>NaN</td>\n",
       "      <td>NaN</td>\n",
       "      <td>0.0</td>\n",
       "      <td>0.0</td>\n",
       "      <td>NaN</td>\n",
       "      <td>30.8</td>\n",
       "      <td>87.4</td>\n",
       "      <td>2</td>\n",
       "    </tr>\n",
       "    <tr>\n",
       "      <th>2234</th>\n",
       "      <td>Indraganti, Madhavi, et al. \"Adaptive model of...</td>\n",
       "      <td>Indraganti Madhavi</td>\n",
       "      <td>2012.0</td>\n",
       "      <td>Winter</td>\n",
       "      <td>Aw</td>\n",
       "      <td>Tropical wet savanna</td>\n",
       "      <td>Chennai</td>\n",
       "      <td>India</td>\n",
       "      <td>Office</td>\n",
       "      <td>Air Conditioned</td>\n",
       "      <td>...</td>\n",
       "      <td>NaN</td>\n",
       "      <td>69.0</td>\n",
       "      <td>NaN</td>\n",
       "      <td>NaN</td>\n",
       "      <td>0.0</td>\n",
       "      <td>0.0</td>\n",
       "      <td>NaN</td>\n",
       "      <td>30.8</td>\n",
       "      <td>87.4</td>\n",
       "      <td>2</td>\n",
       "    </tr>\n",
       "    <tr>\n",
       "      <th>2235</th>\n",
       "      <td>Indraganti, Madhavi, et al. \"Adaptive model of...</td>\n",
       "      <td>Indraganti Madhavi</td>\n",
       "      <td>2012.0</td>\n",
       "      <td>Winter</td>\n",
       "      <td>Aw</td>\n",
       "      <td>Tropical wet savanna</td>\n",
       "      <td>Chennai</td>\n",
       "      <td>India</td>\n",
       "      <td>Office</td>\n",
       "      <td>Air Conditioned</td>\n",
       "      <td>...</td>\n",
       "      <td>NaN</td>\n",
       "      <td>76.0</td>\n",
       "      <td>NaN</td>\n",
       "      <td>NaN</td>\n",
       "      <td>0.0</td>\n",
       "      <td>0.0</td>\n",
       "      <td>NaN</td>\n",
       "      <td>30.8</td>\n",
       "      <td>87.4</td>\n",
       "      <td>2</td>\n",
       "    </tr>\n",
       "    <tr>\n",
       "      <th>2236</th>\n",
       "      <td>Indraganti, Madhavi, et al. \"Adaptive model of...</td>\n",
       "      <td>Indraganti Madhavi</td>\n",
       "      <td>2012.0</td>\n",
       "      <td>Winter</td>\n",
       "      <td>Aw</td>\n",
       "      <td>Tropical wet savanna</td>\n",
       "      <td>Chennai</td>\n",
       "      <td>India</td>\n",
       "      <td>Office</td>\n",
       "      <td>Air Conditioned</td>\n",
       "      <td>...</td>\n",
       "      <td>NaN</td>\n",
       "      <td>52.0</td>\n",
       "      <td>NaN</td>\n",
       "      <td>NaN</td>\n",
       "      <td>0.0</td>\n",
       "      <td>0.0</td>\n",
       "      <td>NaN</td>\n",
       "      <td>30.8</td>\n",
       "      <td>87.4</td>\n",
       "      <td>2</td>\n",
       "    </tr>\n",
       "    <tr>\n",
       "      <th>2237</th>\n",
       "      <td>Indraganti, Madhavi, et al. \"Adaptive model of...</td>\n",
       "      <td>Indraganti Madhavi</td>\n",
       "      <td>2012.0</td>\n",
       "      <td>Winter</td>\n",
       "      <td>Aw</td>\n",
       "      <td>Tropical wet savanna</td>\n",
       "      <td>Chennai</td>\n",
       "      <td>India</td>\n",
       "      <td>Office</td>\n",
       "      <td>Air Conditioned</td>\n",
       "      <td>...</td>\n",
       "      <td>NaN</td>\n",
       "      <td>72.0</td>\n",
       "      <td>NaN</td>\n",
       "      <td>NaN</td>\n",
       "      <td>0.0</td>\n",
       "      <td>0.0</td>\n",
       "      <td>NaN</td>\n",
       "      <td>30.8</td>\n",
       "      <td>87.4</td>\n",
       "      <td>2</td>\n",
       "    </tr>\n",
       "  </tbody>\n",
       "</table>\n",
       "<p>5 rows × 68 columns</p>\n",
       "</div>"
      ],
      "text/plain": [
       "                                 Publication (Citation)    Data contributor  \\\n",
       "2233  Indraganti, Madhavi, et al. \"Adaptive model of...  Indraganti Madhavi   \n",
       "2234  Indraganti, Madhavi, et al. \"Adaptive model of...  Indraganti Madhavi   \n",
       "2235  Indraganti, Madhavi, et al. \"Adaptive model of...  Indraganti Madhavi   \n",
       "2236  Indraganti, Madhavi, et al. \"Adaptive model of...  Indraganti Madhavi   \n",
       "2237  Indraganti, Madhavi, et al. \"Adaptive model of...  Indraganti Madhavi   \n",
       "\n",
       "        Year  Season Köppen climate classification               Climate  \\\n",
       "2233  2012.0  Winter                            Aw  Tropical wet savanna   \n",
       "2234  2012.0  Winter                            Aw  Tropical wet savanna   \n",
       "2235  2012.0  Winter                            Aw  Tropical wet savanna   \n",
       "2236  2012.0  Winter                            Aw  Tropical wet savanna   \n",
       "2237  2012.0  Winter                            Aw  Tropical wet savanna   \n",
       "\n",
       "         City Country Building type Cooling startegy  ...  \\\n",
       "2233  Chennai   India        Office  Air Conditioned  ...   \n",
       "2234  Chennai   India        Office  Air Conditioned  ...   \n",
       "2235  Chennai   India        Office  Air Conditioned  ...   \n",
       "2236  Chennai   India        Office  Air Conditioned  ...   \n",
       "2237  Chennai   India        Office  Air Conditioned  ...   \n",
       "\n",
       "      Subject´s height (cm) Subject´s weight (kg)  Blind (curtain)   Fan  \\\n",
       "2233                    NaN                  52.0               NaN  NaN   \n",
       "2234                    NaN                  69.0               NaN  NaN   \n",
       "2235                    NaN                  76.0               NaN  NaN   \n",
       "2236                    NaN                  52.0               NaN  NaN   \n",
       "2237                    NaN                  72.0               NaN  NaN   \n",
       "\n",
       "     Window  Door Heater Outdoor monthly air temperature (°C)  \\\n",
       "2233    0.0   0.0    NaN                                 30.8   \n",
       "2234    0.0   0.0    NaN                                 30.8   \n",
       "2235    0.0   0.0    NaN                                 30.8   \n",
       "2236    0.0   0.0    NaN                                 30.8   \n",
       "2237    0.0   0.0    NaN                                 30.8   \n",
       "\n",
       "      Outdoor monthly air temperature (°F)  Database  \n",
       "2233                                  87.4         2  \n",
       "2234                                  87.4         2  \n",
       "2235                                  87.4         2  \n",
       "2236                                  87.4         2  \n",
       "2237                                  87.4         2  \n",
       "\n",
       "[5 rows x 68 columns]"
      ]
     },
     "execution_count": 133,
     "metadata": {},
     "output_type": "execute_result"
    }
   ],
   "source": [
    "india_df.head()"
   ]
  },
  {
   "cell_type": "code",
   "execution_count": 134,
   "id": "bd3e2156-fea2-410a-a1fd-6a3723ad47c2",
   "metadata": {},
   "outputs": [
    {
     "data": {
      "text/plain": [
       "Index(['Publication (Citation)', 'Data contributor', 'Year', 'Season',\n",
       "       'Köppen climate classification', 'Climate', 'City', 'Country',\n",
       "       'Building type', 'Cooling startegy', 'Age', 'Sex', 'Thermal sensation',\n",
       "       'Thermal sensation acceptability ', 'Thermal preference',\n",
       "       'Air movement acceptability', 'Air movement preference',\n",
       "       'Thermal comfort', 'PMV', 'PPD', 'SET', 'Clo', 'Met', 'activity_10',\n",
       "       'activity_20', 'activity_30', 'activity_60', 'Air temperature (°C)',\n",
       "       'Air temperature (°F)', 'Ta_h (°C)', 'Ta_h (°F)', 'Ta_m (°C)',\n",
       "       'Ta_m (°F)', 'Ta_l (°C)', 'Ta_l (°F)', 'Operative temperature (°C)',\n",
       "       'Operative temperature (°F)', 'Radiant temperature (°C)',\n",
       "       'Radiant temperature (°F)', 'Globe temperature (°C)',\n",
       "       'Globe temperature (°F)', 'Tg_h (°C)', 'Tg_h (°F)', 'Tg_m (°C)',\n",
       "       'Tg_m (°F)', 'Tg_l (°C)', 'Tg_l (°F)', 'Relative humidity (%)',\n",
       "       'Humidity preference', 'Humidity sensation', 'Air velocity (m/s)',\n",
       "       'Air velocity (fpm)', 'Velocity_h (m/s)', 'Velocity_h (fpm)',\n",
       "       'Velocity_m (m/s)', 'Velocity_m (fpm)', 'Velocity_l (m/s)',\n",
       "       'Velocity_l (fpm)', 'Subject´s height (cm)', 'Subject´s weight (kg)',\n",
       "       'Blind (curtain) ', 'Fan', 'Window', 'Door', 'Heater',\n",
       "       'Outdoor monthly air temperature (°C)',\n",
       "       'Outdoor monthly air temperature (°F)', 'Database'],\n",
       "      dtype='object')"
      ]
     },
     "execution_count": 134,
     "metadata": {},
     "output_type": "execute_result"
    }
   ],
   "source": [
    "india_df.columns"
   ]
  },
  {
   "cell_type": "code",
   "execution_count": 135,
   "id": "97c502f3-3fa8-455b-b873-b91c485dc995",
   "metadata": {},
   "outputs": [],
   "source": [
    "columns_to_drop = [\n",
    "    \"Publication (Citation)\", \"Country\",\"Data contributor\", \"Köppen climate classification\",\n",
    "    \"SET\", \"activity_10\", \"Air temperature (°F)\",\n",
    "    \"Ta_h (°F)\", \"Ta_m (°F)\", \"Ta_l (°F)\",\n",
    "    \"Operative temperature (°F)\", \"Globe temperature (°F)\",\n",
    "    \"Tg_h (°F)\", \"Tg_m (°F)\", \"Tg_l (°F)\",\"Outdoor monthly air temperature (°F)\",\"Ta_h (°C)\",\"Tg_h (°C)\",\"Velocity_h (m/s)\"\n",
    "]\n",
    "india_df = india_df.drop(columns=columns_to_drop) # dropping unnecessary column"
   ]
  },
  {
   "cell_type": "code",
   "execution_count": 136,
   "id": "289f7630-3f08-4d3f-95d7-bbb7fe70bbe2",
   "metadata": {},
   "outputs": [
    {
     "data": {
      "text/plain": [
       "Index(['Year', 'Season', 'Climate', 'City', 'Building type',\n",
       "       'Cooling startegy', 'Age', 'Sex', 'Thermal sensation',\n",
       "       'Thermal sensation acceptability ', 'Thermal preference',\n",
       "       'Air movement acceptability', 'Air movement preference',\n",
       "       'Thermal comfort', 'PMV', 'PPD', 'Clo', 'Met', 'activity_20',\n",
       "       'activity_30', 'activity_60', 'Air temperature (°C)', 'Ta_m (°C)',\n",
       "       'Ta_l (°C)', 'Operative temperature (°C)', 'Radiant temperature (°C)',\n",
       "       'Radiant temperature (°F)', 'Globe temperature (°C)', 'Tg_m (°C)',\n",
       "       'Tg_l (°C)', 'Relative humidity (%)', 'Humidity preference',\n",
       "       'Humidity sensation', 'Air velocity (m/s)', 'Air velocity (fpm)',\n",
       "       'Velocity_h (fpm)', 'Velocity_m (m/s)', 'Velocity_m (fpm)',\n",
       "       'Velocity_l (m/s)', 'Velocity_l (fpm)', 'Subject´s height (cm)',\n",
       "       'Subject´s weight (kg)', 'Blind (curtain) ', 'Fan', 'Window', 'Door',\n",
       "       'Heater', 'Outdoor monthly air temperature (°C)', 'Database'],\n",
       "      dtype='object')"
      ]
     },
     "execution_count": 136,
     "metadata": {},
     "output_type": "execute_result"
    }
   ],
   "source": [
    "india_df.columns"
   ]
  },
  {
   "cell_type": "code",
   "execution_count": 137,
   "id": "40d8ac80-5479-4f66-b46c-1b6f9763c6a9",
   "metadata": {},
   "outputs": [
    {
     "data": {
      "text/plain": [
       "(16110, 49)"
      ]
     },
     "execution_count": 137,
     "metadata": {},
     "output_type": "execute_result"
    }
   ],
   "source": [
    "india_df.shape"
   ]
  },
  {
   "cell_type": "code",
   "execution_count": 138,
   "id": "d49c10d0-1464-4a7e-a93c-b91056b9ee8d",
   "metadata": {},
   "outputs": [
    {
     "data": {
      "text/plain": [
       "City\n",
       "Chennai      3785\n",
       "Hyderabad    3141\n",
       "Jaipur       2859\n",
       "Ahmedabad    2080\n",
       "Shimla       1406\n",
       "Delhi        1388\n",
       "Bangalore    1151\n",
       "Tezpur        100\n",
       "Imphal        100\n",
       "Shilong       100\n",
       "Name: count, dtype: int64"
      ]
     },
     "execution_count": 138,
     "metadata": {},
     "output_type": "execute_result"
    }
   ],
   "source": [
    "india_df['City'].value_counts()"
   ]
  },
  {
   "cell_type": "code",
   "execution_count": 139,
   "id": "1e4f58c0-3b7c-4ca9-9716-189d39b2a03c",
   "metadata": {},
   "outputs": [
    {
     "data": {
      "text/plain": [
       "Year                                        0\n",
       "Season                                    140\n",
       "Climate                                     0\n",
       "City                                        0\n",
       "Building type                               0\n",
       "Cooling startegy                            0\n",
       "Age                                      6389\n",
       "Sex                                       300\n",
       "Thermal sensation                         109\n",
       "Thermal sensation acceptability          3680\n",
       "Thermal preference                        310\n",
       "Air movement acceptability              16110\n",
       "Air movement preference                  1389\n",
       "Thermal comfort                          6382\n",
       "PMV                                      3733\n",
       "PPD                                      3733\n",
       "Clo                                         0\n",
       "Met                                       281\n",
       "activity_20                             16110\n",
       "activity_30                             16110\n",
       "activity_60                             16110\n",
       "Air temperature (°C)                      262\n",
       "Ta_m (°C)                               16110\n",
       "Ta_l (°C)                               16110\n",
       "Operative temperature (°C)              15910\n",
       "Radiant temperature (°C)                16110\n",
       "Radiant temperature (°F)                16110\n",
       "Globe temperature (°C)                  16110\n",
       "Tg_m (°C)                               16110\n",
       "Tg_l (°C)                               16110\n",
       "Relative humidity (%)                     374\n",
       "Humidity preference                     13251\n",
       "Humidity sensation                      13251\n",
       "Air velocity (m/s)                        300\n",
       "Air velocity (fpm)                        300\n",
       "Velocity_h (fpm)                         9780\n",
       "Velocity_m (m/s)                        16110\n",
       "Velocity_m (fpm)                        16110\n",
       "Velocity_l (m/s)                        16110\n",
       "Velocity_l (fpm)                        16110\n",
       "Subject´s height (cm)                    6942\n",
       "Subject´s weight (kg)                    1111\n",
       "Blind (curtain)                         13958\n",
       "Fan                                      9589\n",
       "Window                                   5259\n",
       "Door                                     7879\n",
       "Heater                                  13149\n",
       "Outdoor monthly air temperature (°C)      141\n",
       "Database                                    0\n",
       "dtype: int64"
      ]
     },
     "execution_count": 139,
     "metadata": {},
     "output_type": "execute_result"
    }
   ],
   "source": [
    "india_df.isnull().sum()"
   ]
  },
  {
   "cell_type": "code",
   "execution_count": 140,
   "id": "94b0b935-4a87-4ad5-8ec8-e9f0dc507cb3",
   "metadata": {},
   "outputs": [],
   "source": [
    "missing_percentage = india_df.isnull().sum() / len(india_df)\n",
    "threshold = 0.80\n",
    "columns_to_drop = missing_percentage[missing_percentage > threshold].index.tolist()\n",
    "india_df_cleaned = india_df.drop(columns=columns_to_drop) # dropping columns which has more than 13000 rows, missing"
   ]
  },
  {
   "cell_type": "code",
   "execution_count": 141,
   "id": "06100eeb-fe4c-420b-854b-ea6a72af72f5",
   "metadata": {},
   "outputs": [],
   "source": [
    "india_df_cleaned.drop(['Year'],axis = 1, inplace = True) # dropping year , since its all of 2012"
   ]
  },
  {
   "cell_type": "code",
   "execution_count": 142,
   "id": "69e673b0-a98f-41e8-9d8a-3cb686b21303",
   "metadata": {},
   "outputs": [],
   "source": [
    "india_df_cleaned.drop(['Air velocity (fpm)','Velocity_h (fpm)','Fan','Door','Thermal comfort','Subject´s height (cm)','Subject´s weight (kg)','Window','Database'],axis = 1, inplace = True) # thermal comfort also has so many missing values for chennai "
   ]
  },
  {
   "cell_type": "code",
   "execution_count": 143,
   "id": "db41dde6-6c14-43f4-a372-808803c5e66f",
   "metadata": {},
   "outputs": [
    {
     "data": {
      "text/plain": [
       "(16110, 19)"
      ]
     },
     "execution_count": 143,
     "metadata": {},
     "output_type": "execute_result"
    }
   ],
   "source": [
    "india_df_cleaned.shape"
   ]
  },
  {
   "cell_type": "code",
   "execution_count": 144,
   "id": "5086adc6-7769-4c53-ae53-cf0f7f79aac0",
   "metadata": {},
   "outputs": [
    {
     "data": {
      "text/plain": [
       "Season                                   140\n",
       "Climate                                    0\n",
       "City                                       0\n",
       "Building type                              0\n",
       "Cooling startegy                           0\n",
       "Age                                     6389\n",
       "Sex                                      300\n",
       "Thermal sensation                        109\n",
       "Thermal sensation acceptability         3680\n",
       "Thermal preference                       310\n",
       "Air movement preference                 1389\n",
       "PMV                                     3733\n",
       "PPD                                     3733\n",
       "Clo                                        0\n",
       "Met                                      281\n",
       "Air temperature (°C)                     262\n",
       "Relative humidity (%)                    374\n",
       "Air velocity (m/s)                       300\n",
       "Outdoor monthly air temperature (°C)     141\n",
       "dtype: int64"
      ]
     },
     "execution_count": 144,
     "metadata": {},
     "output_type": "execute_result"
    }
   ],
   "source": [
    "india_df_cleaned.isnull().sum()"
   ]
  },
  {
   "cell_type": "code",
   "execution_count": 145,
   "id": "fe2a6a36-4585-4eed-89e7-705586a2f79e",
   "metadata": {},
   "outputs": [],
   "source": [
    "Chennai_df = india_df_cleaned[india_df_cleaned['City'] == 'Chennai'].copy()\n",
    "Hyderabad_df = india_df_cleaned[india_df_cleaned['City'] == 'Hyderabad'].copy()"
   ]
  },
  {
   "cell_type": "code",
   "execution_count": 146,
   "id": "88b48468-d8d5-463e-b75d-c418e1b44d98",
   "metadata": {},
   "outputs": [
    {
     "data": {
      "text/plain": [
       "City\n",
       "Chennai      3785\n",
       "Hyderabad    3141\n",
       "Jaipur       2859\n",
       "Ahmedabad    2080\n",
       "Shimla       1406\n",
       "Delhi        1388\n",
       "Bangalore    1151\n",
       "Tezpur        100\n",
       "Imphal        100\n",
       "Shilong       100\n",
       "Name: count, dtype: int64"
      ]
     },
     "execution_count": 146,
     "metadata": {},
     "output_type": "execute_result"
    }
   ],
   "source": [
    "india_df_cleaned['City'].value_counts()"
   ]
  },
  {
   "cell_type": "code",
   "execution_count": 147,
   "id": "14d33657-5bcf-4d80-892a-fe9d56707fb0",
   "metadata": {},
   "outputs": [
    {
     "data": {
      "text/plain": [
       "(3785, 19)"
      ]
     },
     "execution_count": 147,
     "metadata": {},
     "output_type": "execute_result"
    }
   ],
   "source": [
    "Chennai_df.shape"
   ]
  },
  {
   "cell_type": "code",
   "execution_count": 148,
   "id": "815af478-6d15-4846-9484-954a4c7072e7",
   "metadata": {},
   "outputs": [
    {
     "data": {
      "text/plain": [
       "(3141, 19)"
      ]
     },
     "execution_count": 148,
     "metadata": {},
     "output_type": "execute_result"
    }
   ],
   "source": [
    "Hyderabad_df.shape"
   ]
  },
  {
   "cell_type": "code",
   "execution_count": 149,
   "id": "a89d6b56-d920-4609-9c91-c2263b6ab1c5",
   "metadata": {},
   "outputs": [
    {
     "data": {
      "text/plain": [
       "Thermal sensation acceptability \n",
       "1.0    2628\n",
       "0.0    1003\n",
       "Name: count, dtype: int64"
      ]
     },
     "execution_count": 149,
     "metadata": {},
     "output_type": "execute_result"
    }
   ],
   "source": [
    "Chennai_df['Thermal sensation acceptability '].value_counts()"
   ]
  },
  {
   "cell_type": "code",
   "execution_count": 150,
   "id": "1c0d7b30-e655-4869-ae7d-078d53aafcf8",
   "metadata": {},
   "outputs": [
    {
     "data": {
      "text/plain": [
       "Thermal sensation\n",
       " 0.0    1214\n",
       "-1.0     980\n",
       " 1.0     508\n",
       "-2.0     407\n",
       " 2.0     337\n",
       " 3.0     300\n",
       "-3.0      24\n",
       "-1.5       8\n",
       " 0.5       4\n",
       "-0.5       3\n",
       "Name: count, dtype: int64"
      ]
     },
     "execution_count": 150,
     "metadata": {},
     "output_type": "execute_result"
    }
   ],
   "source": [
    "Chennai_df['Thermal sensation'].value_counts()"
   ]
  },
  {
   "cell_type": "code",
   "execution_count": 151,
   "id": "ec49ff7c-bfb5-4f8a-93cf-439a41458855",
   "metadata": {},
   "outputs": [
    {
     "data": {
      "text/html": [
       "<div>\n",
       "<style scoped>\n",
       "    .dataframe tbody tr th:only-of-type {\n",
       "        vertical-align: middle;\n",
       "    }\n",
       "\n",
       "    .dataframe tbody tr th {\n",
       "        vertical-align: top;\n",
       "    }\n",
       "\n",
       "    .dataframe thead th {\n",
       "        text-align: right;\n",
       "    }\n",
       "</style>\n",
       "<table border=\"1\" class=\"dataframe\">\n",
       "  <thead>\n",
       "    <tr style=\"text-align: right;\">\n",
       "      <th></th>\n",
       "      <th>PMV</th>\n",
       "      <th>Thermal sensation acceptability</th>\n",
       "    </tr>\n",
       "  </thead>\n",
       "  <tbody>\n",
       "    <tr>\n",
       "      <th>2233</th>\n",
       "      <td>0.3</td>\n",
       "      <td>1.0</td>\n",
       "    </tr>\n",
       "    <tr>\n",
       "      <th>2234</th>\n",
       "      <td>0.1</td>\n",
       "      <td>1.0</td>\n",
       "    </tr>\n",
       "    <tr>\n",
       "      <th>2235</th>\n",
       "      <td>0.1</td>\n",
       "      <td>1.0</td>\n",
       "    </tr>\n",
       "    <tr>\n",
       "      <th>2236</th>\n",
       "      <td>0.3</td>\n",
       "      <td>1.0</td>\n",
       "    </tr>\n",
       "    <tr>\n",
       "      <th>2237</th>\n",
       "      <td>0.2</td>\n",
       "      <td>1.0</td>\n",
       "    </tr>\n",
       "    <tr>\n",
       "      <th>...</th>\n",
       "      <td>...</td>\n",
       "      <td>...</td>\n",
       "    </tr>\n",
       "    <tr>\n",
       "      <th>70439</th>\n",
       "      <td>0.5</td>\n",
       "      <td>1.0</td>\n",
       "    </tr>\n",
       "    <tr>\n",
       "      <th>70440</th>\n",
       "      <td>0.6</td>\n",
       "      <td>1.0</td>\n",
       "    </tr>\n",
       "    <tr>\n",
       "      <th>70441</th>\n",
       "      <td>0.6</td>\n",
       "      <td>1.0</td>\n",
       "    </tr>\n",
       "    <tr>\n",
       "      <th>70442</th>\n",
       "      <td>0.6</td>\n",
       "      <td>1.0</td>\n",
       "    </tr>\n",
       "    <tr>\n",
       "      <th>70443</th>\n",
       "      <td>1.4</td>\n",
       "      <td>1.0</td>\n",
       "    </tr>\n",
       "  </tbody>\n",
       "</table>\n",
       "<p>3785 rows × 2 columns</p>\n",
       "</div>"
      ],
      "text/plain": [
       "       PMV  Thermal sensation acceptability \n",
       "2233   0.3                               1.0\n",
       "2234   0.1                               1.0\n",
       "2235   0.1                               1.0\n",
       "2236   0.3                               1.0\n",
       "2237   0.2                               1.0\n",
       "...    ...                               ...\n",
       "70439  0.5                               1.0\n",
       "70440  0.6                               1.0\n",
       "70441  0.6                               1.0\n",
       "70442  0.6                               1.0\n",
       "70443  1.4                               1.0\n",
       "\n",
       "[3785 rows x 2 columns]"
      ]
     },
     "execution_count": 151,
     "metadata": {},
     "output_type": "execute_result"
    }
   ],
   "source": [
    "Chennai_df.loc[:,['PMV','Thermal sensation acceptability ']]"
   ]
  },
  {
   "cell_type": "code",
   "execution_count": 152,
   "id": "9076cf86-4049-44e1-ab2b-7c29f6947de1",
   "metadata": {},
   "outputs": [
    {
     "name": "stdout",
     "output_type": "stream",
     "text": [
      "                                  min  max      mean  median       std  count\n",
      "Thermal sensation acceptability                                              \n",
      "0.0                              -1.9  3.0  0.868395     0.7  0.807319   1003\n",
      "1.0                              -1.7  3.0  0.658600     0.6  0.668076   2628\n"
     ]
    }
   ],
   "source": [
    "stats = Chennai_df.groupby('Thermal sensation acceptability ')['PMV'].agg(['min', 'max', 'mean', 'median', 'std', 'count'])\n",
    "print(stats)"
   ]
  },
  {
   "cell_type": "code",
   "execution_count": 153,
   "id": "f3aaa876-3176-4eb4-ba4e-f5f89078ff92",
   "metadata": {},
   "outputs": [
    {
     "name": "stdout",
     "output_type": "stream",
     "text": [
      "T-stat: 7.9696708501113305, P-value: 2.1120887808758034e-15\n"
     ]
    }
   ],
   "source": [
    "from scipy import stats\n",
    "\n",
    "group0 = Chennai_df[Chennai_df['Thermal sensation acceptability '] == 0]['PMV']\n",
    "group1 = Chennai_df[Chennai_df['Thermal sensation acceptability '] == 1]['PMV']\n",
    "t_stat, p_value = stats.ttest_ind(group0, group1)\n",
    "print(f\"T-stat: {t_stat}, P-value: {p_value}\")"
   ]
  },
  {
   "cell_type": "code",
   "execution_count": 154,
   "id": "e3332233-94b4-472b-b84f-bc43b73ae30f",
   "metadata": {},
   "outputs": [
    {
     "data": {
      "image/png": "[encoded data removed]",
      "text/plain": [
       "<Figure size 640x480 with 1 Axes>"
      ]
     },
     "metadata": {},
     "output_type": "display_data"
    }
   ],
   "source": [
    "import seaborn as sns\n",
    "import matplotlib.pyplot as plt\n",
    "\n",
    "sns.boxplot(x='Thermal sensation acceptability ', y='PMV', data=Chennai_df)\n",
    "plt.title('Box Plot of PMV by Th Sensation Acceptability ')\n",
    "plt.show()"
   ]
  },
  {
   "cell_type": "code",
   "execution_count": 155,
   "id": "53a532f6-0ec4-440d-9006-a2fdee93a2d8",
   "metadata": {},
   "outputs": [
    {
     "data": {
      "text/plain": [
       "Season                                     0\n",
       "Climate                                    0\n",
       "City                                       0\n",
       "Building type                              0\n",
       "Cooling startegy                           0\n",
       "Age                                     2907\n",
       "Sex                                        0\n",
       "Thermal sensation                          0\n",
       "Thermal sensation acceptability          154\n",
       "Thermal preference                         0\n",
       "Air movement preference                    0\n",
       "PMV                                        0\n",
       "PPD                                        0\n",
       "Clo                                        0\n",
       "Met                                        0\n",
       "Air temperature (°C)                       0\n",
       "Relative humidity (%)                      0\n",
       "Air velocity (m/s)                         0\n",
       "Outdoor monthly air temperature (°C)       0\n",
       "dtype: int64"
      ]
     },
     "execution_count": 155,
     "metadata": {},
     "output_type": "execute_result"
    }
   ],
   "source": [
    "Chennai_df.isnull().sum()"
   ]
  },
  {
   "cell_type": "code",
   "execution_count": 156,
   "id": "6de777f1-8916-444b-9528-c5c9d34136c6",
   "metadata": {},
   "outputs": [
    {
     "data": {
      "text/plain": [
       "Season                                     0\n",
       "Climate                                    0\n",
       "City                                       0\n",
       "Building type                              0\n",
       "Cooling startegy                           0\n",
       "Age                                     3141\n",
       "Sex                                        0\n",
       "Thermal sensation                          0\n",
       "Thermal sensation acceptability          322\n",
       "Thermal preference                         0\n",
       "Air movement preference                    0\n",
       "PMV                                        1\n",
       "PPD                                        1\n",
       "Clo                                        0\n",
       "Met                                        0\n",
       "Air temperature (°C)                       0\n",
       "Relative humidity (%)                      0\n",
       "Air velocity (m/s)                         0\n",
       "Outdoor monthly air temperature (°C)       0\n",
       "dtype: int64"
      ]
     },
     "execution_count": 156,
     "metadata": {},
     "output_type": "execute_result"
    }
   ],
   "source": [
    "Hyderabad_df.isnull().sum()"
   ]
  },
  {
   "cell_type": "markdown",
   "id": "6868eed9-9f79-4eb8-97cc-9848a2ae8711",
   "metadata": {},
   "source": [
    "## Drop the rows which has Thermal Sensation acceptability as missing becoz that is very much important col"
   ]
  },
  {
   "cell_type": "code",
   "execution_count": 157,
   "id": "b333233b-1300-46a4-9b12-8f53632d74c5",
   "metadata": {},
   "outputs": [],
   "source": [
    "Chennai_df = Chennai_df.dropna(subset=['Thermal sensation acceptability '])\n",
    "Hyderabad_df = Hyderabad_df.dropna(subset=['Thermal sensation acceptability '])"
   ]
  },
  {
   "cell_type": "code",
   "execution_count": 158,
   "id": "eded512d-0158-4533-88d7-1ce390794856",
   "metadata": {},
   "outputs": [
    {
     "data": {
      "text/plain": [
       "Season                                     0\n",
       "Climate                                    0\n",
       "City                                       0\n",
       "Building type                              0\n",
       "Cooling startegy                           0\n",
       "Age                                     2753\n",
       "Sex                                        0\n",
       "Thermal sensation                          0\n",
       "Thermal sensation acceptability            0\n",
       "Thermal preference                         0\n",
       "Air movement preference                    0\n",
       "PMV                                        0\n",
       "PPD                                        0\n",
       "Clo                                        0\n",
       "Met                                        0\n",
       "Air temperature (°C)                       0\n",
       "Relative humidity (%)                      0\n",
       "Air velocity (m/s)                         0\n",
       "Outdoor monthly air temperature (°C)       0\n",
       "dtype: int64"
      ]
     },
     "execution_count": 158,
     "metadata": {},
     "output_type": "execute_result"
    }
   ],
   "source": [
    "Chennai_df.isnull().sum()"
   ]
  },
  {
   "cell_type": "code",
   "execution_count": 159,
   "id": "2b8d7103-0297-48e3-8f11-0f4db60703e4",
   "metadata": {},
   "outputs": [
    {
     "data": {
      "text/plain": [
       "Season                                     0\n",
       "Climate                                    0\n",
       "City                                       0\n",
       "Building type                              0\n",
       "Cooling startegy                           0\n",
       "Age                                     2819\n",
       "Sex                                        0\n",
       "Thermal sensation                          0\n",
       "Thermal sensation acceptability            0\n",
       "Thermal preference                         0\n",
       "Air movement preference                    0\n",
       "PMV                                        1\n",
       "PPD                                        1\n",
       "Clo                                        0\n",
       "Met                                        0\n",
       "Air temperature (°C)                       0\n",
       "Relative humidity (%)                      0\n",
       "Air velocity (m/s)                         0\n",
       "Outdoor monthly air temperature (°C)       0\n",
       "dtype: int64"
      ]
     },
     "execution_count": 159,
     "metadata": {},
     "output_type": "execute_result"
    }
   ],
   "source": [
    "Hyderabad_df.isnull().sum()"
   ]
  },
  {
   "cell_type": "code",
   "execution_count": 160,
   "id": "b42e8008-d67c-4382-87db-a92e91bd6ec2",
   "metadata": {},
   "outputs": [],
   "source": [
    "Chennai_df.to_csv('Chennai.csv',index=False)"
   ]
  },
  {
   "cell_type": "code",
   "execution_count": 161,
   "id": "f0bb263d-796d-49d9-acb2-028ab9761ea2",
   "metadata": {},
   "outputs": [],
   "source": [
    "Hyderabad_df.to_csv('Hyderabad.csv',index=False)"
   ]
  },
  {
   "cell_type": "code",
   "execution_count": null,
   "id": "c8f93581-0dd9-4067-a6a8-0d73fa7598aa",
   "metadata": {},
   "outputs": [],
   "source": []
  },
  {
   "cell_type": "code",
   "execution_count": null,
   "id": "701ac4e8-0e1a-46cf-bc23-27bae1cde8d4",
   "metadata": {},
   "outputs": [],
   "source": []
  },
  {
   "cell_type": "code",
   "execution_count": null,
   "id": "e68ab9f8-b7d3-4363-b06a-d8e2bc42ef60",
   "metadata": {},
   "outputs": [],
   "source": []
  }
 ],
 "metadata": {
  "kernelspec": {
   "display_name": "Python 3 (ipykernel)",
   "language": "python",
   "name": "python3"
  },
  "language_info": {
   "codemirror_mode": {
    "name": "ipython",
    "version": 3
   },
   "file_extension": ".py",
   "mimetype": "text/x-python",
   "name": "python",
   "nbconvert_exporter": "python",
   "pygments_lexer": "ipython3",
   "version": "3.12.7"
  }
 },
 "nbformat": 4,
 "nbformat_minor": 5
}
